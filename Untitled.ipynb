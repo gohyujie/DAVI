{
 "cells": [
  {
   "cell_type": "code",
   "execution_count": 23,
   "id": "734fef4a-afa9-4869-9057-c1ebf421f951",
   "metadata": {},
   "outputs": [
    {
     "data": {
      "text/html": [
       "\n",
       "        <iframe\n",
       "            width=\"100%\"\n",
       "            height=\"650\"\n",
       "            src=\"http://127.0.0.1:8091/\"\n",
       "            frameborder=\"0\"\n",
       "            allowfullscreen\n",
       "            \n",
       "        ></iframe>\n",
       "        "
      ],
      "text/plain": [
       "<IPython.lib.display.IFrame at 0x2524edd6a20>"
      ]
     },
     "metadata": {},
     "output_type": "display_data"
    }
   ],
   "source": [
    "# import the following libraries using pip install dash and pip install dash-bootstrap-components\n",
    "from dash import Dash, dcc  # pip install dash\n",
    "import dash_bootstrap_components as dbc  # pip install dash-bootstrap-components\n",
    "\n",
    "# Build your components\n",
    "app = Dash(__name__, external_stylesheets=[dbc.themes.BOOTSTRAP])  # the theme is BOOTSTRAP. You may choose other themes\n",
    "mytext = dcc.Markdown(children=\"# Hello World - let's build web apps in Python!\")\n",
    "\n",
    "# Customize your own Layout\n",
    "app.layout = dbc.Container([mytext])\n",
    "\n",
    "# Run app\n",
    "if __name__ == '__main__':\n",
    "    app.run(debug=True, port=8091)  # Use app.run instead of app.run_server\n",
    "\n"
   ]
  },
  {
   "cell_type": "code",
   "execution_count": 15,
   "id": "b58fc0a2-e962-46fa-b919-9ba835da1775",
   "metadata": {},
   "outputs": [
    {
     "data": {
      "text/html": [
       "\n",
       "        <iframe\n",
       "            width=\"100%\"\n",
       "            height=\"650\"\n",
       "            src=\"http://127.0.0.1:8053/\"\n",
       "            frameborder=\"0\"\n",
       "            allowfullscreen\n",
       "            \n",
       "        ></iframe>\n",
       "        "
      ],
      "text/plain": [
       "<IPython.lib.display.IFrame at 0x2524ebba150>"
      ]
     },
     "metadata": {},
     "output_type": "display_data"
    }
   ],
   "source": [
    "from dash import Dash, dcc, Input, Output\n",
    "import dash_bootstrap_components as dbc\n",
    "\n",
    "# Build your components\n",
    "app = Dash(__name__, external_stylesheets=[dbc.themes.SOLAR])\n",
    "\n",
    "# Define the layout with proper IDs\n",
    "app.layout = dbc.Container([\n",
    "    dcc.Markdown(id='markdown-output', children=''),  # Markdown output area\n",
    "    dbc.Input(id='text-input', value=\"# Hello World - let's build web apps in Python!\", type='text')\n",
    "])\n",
    "\n",
    "# Callback to link input to markdown output\n",
    "@app.callback(\n",
    "    Output('markdown-output', 'children'),   # Output goes to the Markdown component\n",
    "    Input('text-input', 'value')             # Input comes from the input box\n",
    ")\n",
    "def update_title(user_input):\n",
    "    return user_input  # Display the typed input as Markdown\n",
    "\n",
    "# Run app\n",
    "if __name__ == '__main__':\n",
    "    app.run(debug=True, port=8053)\n"
   ]
  },
  {
   "cell_type": "code",
   "execution_count": 3,
   "id": "03c258b6-73eb-4ee9-9ca0-4d660c2b18af",
   "metadata": {},
   "outputs": [
    {
     "data": {
      "text/html": [
       "\n",
       "        <iframe\n",
       "            width=\"100%\"\n",
       "            height=\"650\"\n",
       "            src=\"http://127.0.0.1:8050/\"\n",
       "            frameborder=\"0\"\n",
       "            allowfullscreen\n",
       "            \n",
       "        ></iframe>\n",
       "        "
      ],
      "text/plain": [
       "<IPython.lib.display.IFrame at 0x252491199d0>"
      ]
     },
     "metadata": {},
     "output_type": "display_data"
    }
   ],
   "source": [
    "from dash import Dash, dcc, html, Input, Output\n",
    "import pandas as pd\n",
    "import plotly.express as px\n",
    "\n",
    "# Load your data\n",
    "df = pd.read_csv('Animal_Condition.csv')  # Make sure your CSV has the correct columns\n",
    "\n",
    "app = Dash(__name__)\n",
    "\n",
    "app.layout = html.Div([\n",
    "    html.Div([\n",
    "    html.Label(['Animal Rescue']),\n",
    "    dcc.RadioItems(\n",
    "        id='my_select',  # Keep the same ID for callback compatibility\n",
    "        options=[\n",
    "            {'label': 'Action Taken by Ranger', 'value': 'Final Ranger Action'},\n",
    "            {'label': 'Age', 'value': 'Age'},\n",
    "            {'label': 'Animal Health', 'value': 'Animal Condition'},\n",
    "            {'label': 'Borough', 'value': 'Borough'},\n",
    "            {'label': 'Species', 'value': 'Animal Class'},\n",
    "            {'label': 'Species Status', 'value': 'Species Status'}\n",
    "        ],\n",
    "        value='Animal Class',  # default selected value\n",
    "        labelStyle={'display': 'block'},  # shows one per line (like a form)\n",
    "        style={\"padding\": \"10px\"}\n",
    "    )\n",
    "]),\n",
    "\n",
    "    html.Div([\n",
    "        dcc.Graph(id='the_graph')\n",
    "    ])\n",
    "])\n",
    "\n",
    "# Callback to update the pie chart\n",
    "@app.callback(\n",
    "    Output('the_graph', 'figure'),\n",
    "    Input('my_select', 'value')\n",
    ")\n",
    "def update_graph(selected_column):\n",
    "    if selected_column in df.columns:\n",
    "        filtered = df[selected_column].value_counts().reset_index()\n",
    "        filtered.columns = [selected_column, 'Count']\n",
    "        fig = px.pie(filtered, names=selected_column, values='Count', title=f'Pie chart of {selected_column}')\n",
    "        return fig\n",
    "    else:\n",
    "        return px.pie(title=\"Invalid Column Selected\")\n",
    "\n",
    "if __name__ == '__main__':\n",
    "    app.run(debug=True)\n"
   ]
  },
  {
   "cell_type": "code",
   "execution_count": 5,
   "id": "57179b8c-41a1-45c7-9ab2-40441e86765b",
   "metadata": {},
   "outputs": [],
   "source": [
    "# import the following libraries\n",
    "import dash\n",
    "from dash import html, dcc\n",
    "import dash_bootstrap_components as dbc\n",
    "from dash.dependencies import Output, Input\n",
    "from dash.exceptions import PreventUpdate\n",
    "import plotly.graph_objects as go\n",
    "import plotly.express as px\n",
    "import pandas as pd\n",
    "# intantiate the app\n",
    "app = dash.Dash(__name__, external_stylesheets=[dbc.themes.BOOTSTRAP])"
   ]
  },
  {
   "cell_type": "code",
   "execution_count": 25,
   "id": "c36ad8ea-4d40-41ed-874e-5b4125a89b54",
   "metadata": {},
   "outputs": [
    {
     "data": {
      "text/html": [
       "\n",
       "        <iframe\n",
       "            width=\"100%\"\n",
       "            height=\"650\"\n",
       "            src=\"http://127.0.0.1:8054/\"\n",
       "            frameborder=\"0\"\n",
       "            allowfullscreen\n",
       "            \n",
       "        ></iframe>\n",
       "        "
      ],
      "text/plain": [
       "<IPython.lib.display.IFrame at 0x2524e123cb0>"
      ]
     },
     "metadata": {},
     "output_type": "display_data"
    }
   ],
   "source": [
    "from dash import Dash, dcc, html, Input, Output\n",
    "import pandas as pd\n",
    "\n",
    "# Read dataset\n",
    "poverty_data = pd.read_csv('PovStatsData.csv')\n",
    "\n",
    "# Clean up column names\n",
    "poverty_data.columns = poverty_data.columns.str.strip()\n",
    "poverty_data['Country Name'] = poverty_data['Country Name'].str.strip()\n",
    "poverty_data['Indicator Name'] = poverty_data['Indicator Name'].str.strip()\n",
    "\n",
    "# List of region names to exclude\n",
    "regions = ['East Asia & Pacific', 'Europe & Central Asia',\n",
    "           'Fragile and conflict affected situations', 'High income',\n",
    "           'IDA countries classified as fragile situations', 'IDA total',\n",
    "           'Latin America & Caribbean', 'Low & middle income', 'Low income',\n",
    "           'Lower middle income', 'Middle East & North Africa',\n",
    "           'Middle income', 'South Asia', 'Sub-Saharan Africa',\n",
    "           'Upper middle income', 'World']\n",
    "\n",
    "# Create Dash app\n",
    "app = Dash(__name__)\n",
    "\n",
    "# App layout\n",
    "app.layout = html.Div([\n",
    "    html.H1('Poverty And Equity Database'),\n",
    "    html.H2('The World Bank'),\n",
    "    dcc.Dropdown(\n",
    "        id='country',\n",
    "        options=[{'label': country, 'value': country}\n",
    "                 for country in poverty_data['Country Name'].unique()\n",
    "                 if country not in regions]\n",
    "    ),\n",
    "    html.Br(),\n",
    "    html.Div(id='report'),\n",
    "    html.Br(),\n",
    "    dcc.Dropdown(\n",
    "        id='year_dropdown',\n",
    "        value='2010',\n",
    "        options=[{'label': year, 'value': str(year)}\n",
    "                 for year in range(1974, 2019)]\n",
    "    ),\n",
    "    dcc.Graph(id='population_chart'),\n",
    "    html.Br(),\n",
    "])\n",
    "\n",
    "# Callback to update the report\n",
    "@app.callback(\n",
    "    Output('report', 'children'),\n",
    "    Input('country', 'value')\n",
    ")\n",
    "def display_country_report(country):\n",
    "    if country is None:\n",
    "        return ' '\n",
    "    \n",
    "    filtered_df = poverty_data[\n",
    "        (poverty_data['Country Name'] == country) &\n",
    "        (poverty_data['Indicator Name'] == 'Population, total')\n",
    "    ]\n",
    "    \n",
    "    # Make sure the data exists\n",
    "    if filtered_df.empty or '2010' not in filtered_df.columns:\n",
    "        return f'No population data for {country} in 2010.'\n",
    "\n",
    "    population = filtered_df['2010'].values[0]\n",
    "\n",
    "    return [\n",
    "        html.H3(country),\n",
    "        f'The population of {country} in 2010 was {population:,.0f}.'\n",
    "    ]\n",
    "\n",
    "# Run the app\n",
    "if __name__ == '__main__':\n",
    "    app.run(debug=True, port=8054)\n"
   ]
  },
  {
   "cell_type": "code",
   "execution_count": 27,
   "id": "ef998345-6572-4c45-b2f9-1221f84dea7f",
   "metadata": {},
   "outputs": [
    {
     "data": {
      "text/html": [
       "\n",
       "        <iframe\n",
       "            width=\"100%\"\n",
       "            height=\"650\"\n",
       "            src=\"http://127.0.0.1:8050/\"\n",
       "            frameborder=\"0\"\n",
       "            allowfullscreen\n",
       "            \n",
       "        ></iframe>\n",
       "        "
      ],
      "text/plain": [
       "<IPython.lib.display.IFrame at 0x2524ec0eb40>"
      ]
     },
     "metadata": {},
     "output_type": "display_data"
    }
   ],
   "source": [
    "from dash import Dash, dcc, html, Input, Output\n",
    "import pandas as pd\n",
    "import plotly.express as px\n",
    "\n",
    "# Load your data\n",
    "df = pd.read_csv('Animal_Condition.csv')\n",
    "\n",
    "app = Dash(__name__)\n",
    "\n",
    "app.layout = html.Div([\n",
    "    html.Div([\n",
    "        html.Label(['Animal Rescue']),\n",
    "        dcc.Dropdown(\n",
    "            id='my_select',\n",
    "            options=[\n",
    "                {'label': 'Action Taken by Ranger', 'value': 'Final Ranger Action'},\n",
    "                {'label': 'Age', 'value': 'Age'},\n",
    "                {'label': 'Animal Health', 'value': 'Animal Condition'},\n",
    "                {'label': 'Borough', 'value': 'Borough'},\n",
    "                {'label': 'Species', 'value': 'Animal Class'},\n",
    "                {'label': 'Species Status', 'value': 'Species Status'}\n",
    "            ],\n",
    "            value='Animal Class',\n",
    "            style={\"width\": \"60%\", \"margin\": \"10px\"}\n",
    "        )\n",
    "    ]),\n",
    "    html.Div([\n",
    "        dcc.Graph(id='the_graph')\n",
    "    ])\n",
    "])\n",
    "\n",
    "# Callback to update the pie chart\n",
    "@app.callback(\n",
    "    Output('the_graph', 'figure'),\n",
    "    Input('my_select', 'value')\n",
    ")\n",
    "def update_graph(selected_column):\n",
    "    if selected_column in df.columns:\n",
    "        filtered = df[selected_column].value_counts().reset_index()\n",
    "        filtered.columns = [selected_column, 'Count']\n",
    "        fig = px.pie(filtered, names=selected_column, values='Count', title=f'Pie chart of {selected_column}')\n",
    "        return fig\n",
    "    else:\n",
    "        return px.pie(title=\"Invalid Column Selected\")\n",
    "\n",
    "if __name__ == '__main__':\n",
    "    app.run(debug=True)\n"
   ]
  },
  {
   "cell_type": "code",
   "execution_count": null,
   "id": "0d110d46-b8bb-49b7-af7f-1e40ff504f99",
   "metadata": {},
   "outputs": [],
   "source": []
  },
  {
   "cell_type": "code",
   "execution_count": null,
   "id": "280ced16-f537-44ab-a734-301602ae5d36",
   "metadata": {},
   "outputs": [],
   "source": []
  },
  {
   "cell_type": "code",
   "execution_count": null,
   "id": "a2f0dc0f-02b5-439c-80a4-70235d86f3cd",
   "metadata": {},
   "outputs": [],
   "source": []
  },
  {
   "cell_type": "code",
   "execution_count": null,
   "id": "82d229b0-e3d9-4ac5-b140-b8bf824f04f2",
   "metadata": {},
   "outputs": [],
   "source": []
  },
  {
   "cell_type": "code",
   "execution_count": null,
   "id": "0ed3e4cd-5294-4a56-a049-aee17cf3c5be",
   "metadata": {},
   "outputs": [],
   "source": []
  },
  {
   "cell_type": "code",
   "execution_count": null,
   "id": "8ddc5577-ef83-48d3-86e0-b9f75e87fb15",
   "metadata": {},
   "outputs": [],
   "source": []
  },
  {
   "cell_type": "code",
   "execution_count": null,
   "id": "51e999e5-1138-41d7-9141-4d52059078ee",
   "metadata": {},
   "outputs": [],
   "source": []
  },
  {
   "cell_type": "code",
   "execution_count": null,
   "id": "21a8264a-6097-44f7-bf93-c369cdcc17b2",
   "metadata": {},
   "outputs": [],
   "source": []
  },
  {
   "cell_type": "code",
   "execution_count": null,
   "id": "92441f50-d233-479f-9509-3ef6cbf5b48b",
   "metadata": {},
   "outputs": [],
   "source": []
  },
  {
   "cell_type": "code",
   "execution_count": null,
   "id": "da102339-b5ae-42ed-b488-b540cb107500",
   "metadata": {},
   "outputs": [],
   "source": []
  }
 ],
 "metadata": {
  "kernelspec": {
   "display_name": "Python 3 (ipykernel)",
   "language": "python",
   "name": "python3"
  },
  "language_info": {
   "codemirror_mode": {
    "name": "ipython",
    "version": 3
   },
   "file_extension": ".py",
   "mimetype": "text/x-python",
   "name": "python",
   "nbconvert_exporter": "python",
   "pygments_lexer": "ipython3",
   "version": "3.12.4"
  }
 },
 "nbformat": 4,
 "nbformat_minor": 5
}
